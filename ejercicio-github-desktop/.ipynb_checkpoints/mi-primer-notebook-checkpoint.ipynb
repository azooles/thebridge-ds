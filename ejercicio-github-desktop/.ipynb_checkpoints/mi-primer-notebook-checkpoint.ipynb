{
 "cells": [
  {
   "cell_type": "code",
   "execution_count": 1,
   "id": "82d9cd66-e206-418f-bb96-5319ec403af7",
   "metadata": {},
   "outputs": [
    {
     "ename": "SyntaxError",
     "evalue": "invalid syntax (106740592.py, line 1)",
     "output_type": "error",
     "traceback": [
      "  \u001b[36mCell\u001b[39m\u001b[36m \u001b[39m\u001b[32mIn[1]\u001b[39m\u001b[32m, line 1\u001b[39m\n\u001b[31m    \u001b[39m\u001b[31mHola Mundo\u001b[39m\n         ^\n\u001b[31mSyntaxError\u001b[39m\u001b[31m:\u001b[39m invalid syntax\n"
     ]
    }
   ],
   "source": [
    "Hola Mundo"
   ]
  },
  {
   "cell_type": "code",
   "execution_count": 2,
   "id": "faffa225-e6ef-40db-bb4b-adf0d5397f01",
   "metadata": {},
   "outputs": [
    {
     "name": "stdout",
     "output_type": "stream",
     "text": [
      "Hola Mundo, ahora sí\n"
     ]
    }
   ],
   "source": [
    "print (\"Hola Mundo, ahora sí\")"
   ]
  },
  {
   "cell_type": "markdown",
   "id": "64fd3860-c96d-4f89-a385-a01765b8a351",
   "metadata": {},
   "source": [
    "Hola mundo, markdwon"
   ]
  },
  {
   "cell_type": "code",
   "execution_count": null,
   "id": "af9db4ca-d8ab-436a-8838-d11239cf0dd4",
   "metadata": {},
   "outputs": [],
   "source": []
  }
 ],
 "metadata": {
  "kernelspec": {
   "display_name": "Python 3 (ipykernel)",
   "language": "python",
   "name": "python3"
  },
  "language_info": {
   "codemirror_mode": {
    "name": "ipython",
    "version": 3
   },
   "file_extension": ".py",
   "mimetype": "text/x-python",
   "name": "python",
   "nbconvert_exporter": "python",
   "pygments_lexer": "ipython3",
   "version": "3.13.9"
  }
 },
 "nbformat": 4,
 "nbformat_minor": 5
}
